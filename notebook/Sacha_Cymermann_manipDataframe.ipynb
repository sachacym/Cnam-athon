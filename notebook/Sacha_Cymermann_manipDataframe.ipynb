{
 "cells": [
  {
   "cell_type": "code",
   "execution_count": null,
   "metadata": {},
   "outputs": [],
   "source": [
    "cheminDico = \"./../data/dictionary/1757_Buchanan-J.csv\" \n",
    "dfDicoBuch = pd.read_csv(cheminDico, delimiter=\";\", encoding=\"utf8\")\n",
    "\n",
    "dfDicoBuch.sample(n=10)"
   ]
  },
  {
   "cell_type": "code",
   "execution_count": null,
   "metadata": {},
   "outputs": [],
   "source": [
    "pathMap = \"./../data/dictionary/Buchanan_PronChar_counts.csv\"\n",
    "dfMap = pd.read_csv(pathMap, delimiter=\";\", encoding=\"utf8\")\n",
    "\n",
    "dfMap.sample(n=5)"
   ]
  },
  {
   "cell_type": "code",
   "execution_count": null,
   "metadata": {},
   "outputs": [],
   "source": [
    "dfMap = dfMap.replace(np.nan,'', regex = True)"
   ]
  },
  {
   "cell_type": "code",
   "execution_count": null,
   "metadata": {},
   "outputs": [],
   "source": [
    "def correctionTexte(old_word,dfMap):\n",
    "    new_word = \"\"\n",
    "    \n",
    "    for l in old_word: \n",
    "        dfRowFinded = dfMap[dfMap['char'] == l]\n",
    "        \n",
    "        if len(dfRowFinded == 1):\n",
    "            new_word += dfRowFinded.iloc[0]['graph']\n",
    "            \n",
    "        else:\n",
    "            new_word += '?'\n",
    "            \n",
    "    return(new_word)"
   ]
  },
  {
   "cell_type": "code",
   "execution_count": null,
   "metadata": {},
   "outputs": [],
   "source": [
    "dfDicoBuch['motVedette'] = dfDicoBuch.apply(lambda x: correctionTexte(x['pron'], dfMap),1)"
   ]
  },
  {
   "cell_type": "code",
   "execution_count": null,
   "metadata": {},
   "outputs": [],
   "source": [
    "bigi_path=\"./../data/dataframe/BigiRichSample.csv\"\n",
    "dataBigi = pd.read_csv(bigi_path, delimiter=\";\", encoding=\"utf8\")\n",
    "\n",
    "DataDico = dfDicoBuch.merge(dataBigi, how='inner',left_on= 'motVedette', right_on='hwd')\n",
    "del DataDico['hwd']\n",
    "DataDico.sample(n=5)"
   ]
  },
  {
   "cell_type": "code",
   "execution_count": null,
   "metadata": {},
   "outputs": [],
   "source": [
    "DataDico.to_csv(\"./../data/dataframe/BuchananRich.csv\")"
   ]
  },
  {
   "cell_type": "code",
   "execution_count": null,
   "metadata": {},
   "outputs": [],
   "source": [
    "Buch_path = \"./../data/dataframe/BuchananRich.csv\"\n",
    "Buch = pd.read_csv(Buch_path, delimiter=\",\", encoding=\"utf8\")\n",
    "Buch.head(5)"
   ]
  },
  {
   "cell_type": "code",
   "execution_count": null,
   "metadata": {},
   "outputs": [],
   "source": [
    "dataBuch=Buch[[\"motVedette\",\"nbSyll\",\"pron\",\"Sampa\",\"ipa\"]]\n",
    "dataBuch.head(3)"
   ]
  }
 ],
 "metadata": {
  "kernelspec": {
   "display_name": "Python 3",
   "language": "python",
   "name": "python3"
  },
  "language_info": {
   "codemirror_mode": {
    "name": "ipython",
    "version": 3
   },
   "file_extension": ".py",
   "mimetype": "text/x-python",
   "name": "python",
   "nbconvert_exporter": "python",
   "pygments_lexer": "ipython3",
   "version": "3.8.8"
  }
 },
 "nbformat": 4,
 "nbformat_minor": 4
}
