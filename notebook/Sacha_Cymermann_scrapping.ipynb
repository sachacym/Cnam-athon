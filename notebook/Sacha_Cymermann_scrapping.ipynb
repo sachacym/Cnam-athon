{
 "cells": [
  {
   "cell_type": "code",
   "execution_count": 1,
   "metadata": {},
   "outputs": [],
   "source": [
    "def scrapping(df):\n",
    "    path=\"https://dictionary.cambridge.org/dictionary/english/\"\n",
    "    listeUK = []\n",
    "    listeUS = []\n",
    "    \n",
    "    for mot in df[\"motVedette\"] :\n",
    "        link=path+mot\n",
    "        response = session.get(link)\n",
    "        status = response.status_code\n",
    "        html_doc = response.content\n",
    "        \n",
    "        soup = BeautifulSoup(response.text,'html.parser')\n",
    "        souplettesBody = soup.find('body')\n",
    "\n",
    "        soupletteAside = souplettesBody.findAll('amp-audio')\n",
    "        soupletteAsideUK = soupletteAside[0].find('source')\n",
    "        soupletteAsideUS = soupletteAside[1].find('source')\n",
    "\n",
    "        find = soup.findAll(\"div\", {\"class\" : \"pos-header dpos-h\"})\n",
    "\n",
    "        mp3UK = soupletteAsideUK['src']\n",
    "        mp3US = soupletteAsideUS['src']\n",
    "\n",
    "        url='https://dictionary.cambridge.org'\n",
    "        audioUK = url+mp3UK\n",
    "        audioUS = url+mp3US\n",
    "        \n",
    "        listeUK.append(audioUK)\n",
    "        listeUS.append(audioUS)\n",
    "                                  \n",
    "    df['lienUK']=pd.Series(listeUK).values\n",
    "    df['lienUS']=pd.Series(listeUS).values\n",
    "    return df"
   ]
  },
  {
   "cell_type": "code",
   "execution_count": 2,
   "metadata": {},
   "outputs": [],
   "source": [
    "def Audio(df):\n",
    "    clear_output()\n",
    "    listeWid = widgets.Output()\n",
    "    lU = widgets.Output()\n",
    "    sU = widgets.Output()\n",
    "\n",
    "    for numLigne in range(len(df)):\n",
    "        \n",
    "        labelUK = widgets.Label(\"UK\")\n",
    "        itemsUK = audioD.Audio(url = df[\"lienUK\"][numLigne])\n",
    "        spectroUK = df[\"lienUK\"][numLigne]\n",
    "    \n",
    "        labelUS = widgets.Label(\"US\")\n",
    "        itemsUS = audioD.Audio(url = df[\"lienUS\"][numLigne])\n",
    "        audioUK = widgets.Output()\n",
    "        audioUK.append_display_data(itemsUK)\n",
    "        audioUS = widgets.Output()\n",
    "        audioUS.append_display_data(itemsUS)\n",
    "        spectroUS = df[\"lienUS\"][numLigne]\n",
    "        \n",
    "        lU = widgets.HBox([labelUK,audioUK,labelUS,audioUS])\n",
    "\n",
    "        # mots\n",
    "        labelMot = widgets.Label(df[\"motVedette\"][numLigne])\n",
    "        labelPronunciation = widgets.Label(str(df[\"pron\"][numLigne]))\n",
    "        label = widgets.HBox([labelMot, labelPronunciation])\n",
    "\n",
    "\n",
    "        listeWid.append_display_data(widgets.VBox([label,lU,sU]))\n",
    "                        \n",
    "    return listeWid"
   ]
  },
  {
   "cell_type": "code",
   "execution_count": null,
   "metadata": {},
   "outputs": [],
   "source": []
  }
 ],
 "metadata": {
  "kernelspec": {
   "display_name": "Python 3",
   "language": "python",
   "name": "python3"
  },
  "language_info": {
   "codemirror_mode": {
    "name": "ipython",
    "version": 3
   },
   "file_extension": ".py",
   "mimetype": "text/x-python",
   "name": "python",
   "nbconvert_exporter": "python",
   "pygments_lexer": "ipython3",
   "version": "3.8.8"
  }
 },
 "nbformat": 4,
 "nbformat_minor": 4
}
