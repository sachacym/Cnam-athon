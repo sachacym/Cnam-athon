{
 "cells": [
  {
   "cell_type": "markdown",
   "metadata": {},
   "source": [
    "# Pandas Tricks\n",
    "\n",
    "*Rappel et/ou découverte de manipulation de matrices de données avec pandas*"
   ]
  },
  {
   "cell_type": "markdown",
   "metadata": {},
   "source": [
    "### Lire un tableur\n",
    "\n"
   ]
  },
  {
   "cell_type": "code",
   "execution_count": 10,
   "metadata": {},
   "outputs": [
    {
     "data": {
      "text/html": [
       "<div>\n",
       "<style scoped>\n",
       "    .dataframe tbody tr th:only-of-type {\n",
       "        vertical-align: middle;\n",
       "    }\n",
       "\n",
       "    .dataframe tbody tr th {\n",
       "        vertical-align: top;\n",
       "    }\n",
       "\n",
       "    .dataframe thead th {\n",
       "        text-align: right;\n",
       "    }\n",
       "</style>\n",
       "<table border=\"1\" class=\"dataframe\">\n",
       "  <thead>\n",
       "    <tr style=\"text-align: right;\">\n",
       "      <th></th>\n",
       "      <th>nbSyll</th>\n",
       "      <th>pron</th>\n",
       "      <th>origin</th>\n",
       "      <th>warning</th>\n",
       "      <th>remarques</th>\n",
       "      <th>POS</th>\n",
       "      <th>lineId</th>\n",
       "      <th>pageId</th>\n",
       "    </tr>\n",
       "  </thead>\n",
       "  <tbody>\n",
       "    <tr>\n",
       "      <th>4581</th>\n",
       "      <td>1</td>\n",
       "      <td>erſt</td>\n",
       "      <td>NaN</td>\n",
       "      <td>NaN</td>\n",
       "      <td>NaN</td>\n",
       "      <td>p.</td>\n",
       "      <td>29.0</td>\n",
       "      <td>83</td>\n",
       "    </tr>\n",
       "    <tr>\n",
       "      <th>7630</th>\n",
       "      <td>2</td>\n",
       "      <td>lăʹnguid</td>\n",
       "      <td>L.</td>\n",
       "      <td>NaN</td>\n",
       "      <td>NaN</td>\n",
       "      <td>a.</td>\n",
       "      <td>40.0</td>\n",
       "      <td>127</td>\n",
       "    </tr>\n",
       "    <tr>\n",
       "      <th>1069</th>\n",
       "      <td>2</td>\n",
       "      <td>băʹrrel</td>\n",
       "      <td>F.</td>\n",
       "      <td>NaN</td>\n",
       "      <td>NaN</td>\n",
       "      <td>n.</td>\n",
       "      <td>30.0</td>\n",
       "      <td>34</td>\n",
       "    </tr>\n",
       "    <tr>\n",
       "      <th>6793</th>\n",
       "      <td>5</td>\n",
       "      <td>incŏmbŭʹſtĭble</td>\n",
       "      <td>L.</td>\n",
       "      <td>NaN</td>\n",
       "      <td>NaN</td>\n",
       "      <td>a.</td>\n",
       "      <td>60.0</td>\n",
       "      <td>115</td>\n",
       "    </tr>\n",
       "    <tr>\n",
       "      <th>15577</th>\n",
       "      <td>2</td>\n",
       "      <td>_w_hŏʹlly</td>\n",
       "      <td>NaN</td>\n",
       "      <td>NaN</td>\n",
       "      <td>NaN</td>\n",
       "      <td>p.</td>\n",
       "      <td>31.0</td>\n",
       "      <td>238</td>\n",
       "    </tr>\n",
       "  </tbody>\n",
       "</table>\n",
       "</div>"
      ],
      "text/plain": [
       "       nbSyll            pron origin warning remarques POS  lineId  pageId\n",
       "4581        1            erſt    NaN     NaN       NaN  p.    29.0      83\n",
       "7630        2        lăʹnguid     L.     NaN       NaN  a.    40.0     127\n",
       "1069        2         băʹrrel     F.     NaN       NaN  n.    30.0      34\n",
       "6793        5  incŏmbŭʹſtĭble     L.     NaN       NaN  a.    60.0     115\n",
       "15577       2       _w_hŏʹlly    NaN     NaN       NaN  p.    31.0     238"
      ]
     },
     "execution_count": 10,
     "metadata": {},
     "output_type": "execute_result"
    }
   ],
   "source": [
    "import pandas as pd\n",
    "\n",
    "# préciser le chemin du fichier à lire\n",
    "cheminDuFichierCSV = \"./../data/dictionary/1757_Buchanan-J.csv\" \n",
    "\n",
    "# demander à pandas de lire le fichier et garder ce tableau accessible dans une variable\n",
    "dfDicoBuch = pd.read_csv(cheminDuFichierCSV, delimiter=\";\", encoding=\"utf8\")\n",
    "\n",
    "# afficher à l'écran un échantillon du tableau\n",
    "dfDicoBuch.sample(n=5)"
   ]
  },
  {
   "cell_type": "markdown",
   "metadata": {},
   "source": [
    "Pour lires des tableurs aux format xls, xlsx ou odt il faut utiliser pd.read_excel(cheminDuFichier) et je conseil de bien préciser explicitement l'engine à utiliser en paramètre.\n",
    "* dfXlsx = pd.read_excel(cheminDuFichierXLSX, engine=\"openpyxl\")\n",
    "* dfOds = pd.read_excel(cheminDuFichierODS, engine=\"odf\")"
   ]
  },
  {
   "cell_type": "markdown",
   "metadata": {},
   "source": [
    "### Ajouter un nouvelle colonne contenant le resultat d'un traitement"
   ]
  },
  {
   "cell_type": "code",
   "execution_count": 11,
   "metadata": {},
   "outputs": [],
   "source": [
    "# définir une fonction qui retourne quelque chose\n",
    "def sizePron(strPron):\n",
    "    #retourner le nombre de caractère de la prononciation\n",
    "    \n",
    "    return len(strPron)"
   ]
  },
  {
   "cell_type": "code",
   "execution_count": 12,
   "metadata": {},
   "outputs": [
    {
     "data": {
      "text/html": [
       "<div>\n",
       "<style scoped>\n",
       "    .dataframe tbody tr th:only-of-type {\n",
       "        vertical-align: middle;\n",
       "    }\n",
       "\n",
       "    .dataframe tbody tr th {\n",
       "        vertical-align: top;\n",
       "    }\n",
       "\n",
       "    .dataframe thead th {\n",
       "        text-align: right;\n",
       "    }\n",
       "</style>\n",
       "<table border=\"1\" class=\"dataframe\">\n",
       "  <thead>\n",
       "    <tr style=\"text-align: right;\">\n",
       "      <th></th>\n",
       "      <th>nbSyll</th>\n",
       "      <th>pron</th>\n",
       "      <th>origin</th>\n",
       "      <th>warning</th>\n",
       "      <th>remarques</th>\n",
       "      <th>POS</th>\n",
       "      <th>lineId</th>\n",
       "      <th>pageId</th>\n",
       "      <th>sizePron</th>\n",
       "    </tr>\n",
       "  </thead>\n",
       "  <tbody>\n",
       "    <tr>\n",
       "      <th>1856</th>\n",
       "      <td>2</td>\n",
       "      <td>căʹrack</td>\n",
       "      <td>NaN</td>\n",
       "      <td>NaN</td>\n",
       "      <td>NaN</td>\n",
       "      <td>n.</td>\n",
       "      <td>25.0</td>\n",
       "      <td>45</td>\n",
       "      <td>7</td>\n",
       "    </tr>\n",
       "    <tr>\n",
       "      <th>13199</th>\n",
       "      <td>3</td>\n",
       "      <td>ſtūʹdĭ_o_us</td>\n",
       "      <td>L.</td>\n",
       "      <td>NaN</td>\n",
       "      <td>NaN</td>\n",
       "      <td>a.</td>\n",
       "      <td>16.0</td>\n",
       "      <td>205</td>\n",
       "      <td>11</td>\n",
       "    </tr>\n",
       "    <tr>\n",
       "      <th>5771</th>\n",
       "      <td>2</td>\n",
       "      <td>gooʹdwĭll</td>\n",
       "      <td>NaN</td>\n",
       "      <td>NaN</td>\n",
       "      <td>NaN</td>\n",
       "      <td>n.</td>\n",
       "      <td>2.0</td>\n",
       "      <td>100</td>\n",
       "      <td>9</td>\n",
       "    </tr>\n",
       "    <tr>\n",
       "      <th>1418</th>\n",
       "      <td>3</td>\n",
       "      <td>bŏmbăſĭʹne</td>\n",
       "      <td>NaN</td>\n",
       "      <td>NaN</td>\n",
       "      <td>NaN</td>\n",
       "      <td>n.</td>\n",
       "      <td>19.0</td>\n",
       "      <td>39</td>\n",
       "      <td>10</td>\n",
       "    </tr>\n",
       "    <tr>\n",
       "      <th>4859</th>\n",
       "      <td>4</td>\n",
       "      <td>extrăʹvăsāte</td>\n",
       "      <td>L.</td>\n",
       "      <td>NaN</td>\n",
       "      <td>NaN</td>\n",
       "      <td>a.</td>\n",
       "      <td>19.0</td>\n",
       "      <td>87</td>\n",
       "      <td>12</td>\n",
       "    </tr>\n",
       "  </tbody>\n",
       "</table>\n",
       "</div>"
      ],
      "text/plain": [
       "       nbSyll          pron origin warning remarques POS  lineId  pageId  \\\n",
       "1856        2       căʹrack    NaN     NaN       NaN  n.    25.0      45   \n",
       "13199       3   ſtūʹdĭ_o_us     L.     NaN       NaN  a.    16.0     205   \n",
       "5771        2     gooʹdwĭll    NaN     NaN       NaN  n.     2.0     100   \n",
       "1418        3    bŏmbăſĭʹne    NaN     NaN       NaN  n.    19.0      39   \n",
       "4859        4  extrăʹvăsāte     L.     NaN       NaN  a.    19.0      87   \n",
       "\n",
       "       sizePron  \n",
       "1856          7  \n",
       "13199        11  \n",
       "5771          9  \n",
       "1418         10  \n",
       "4859         12  "
      ]
     },
     "execution_count": 12,
     "metadata": {},
     "output_type": "execute_result"
    }
   ],
   "source": [
    "# appeler cette fonction sur toutes les lignes de la matrice pour remplir une nouvelle colonne grace à apply\n",
    "dfDicoBuch['sizePron'] = dfDicoBuch.apply(lambda x: sizePron(x['pron']),1)\n",
    "\n",
    "dfDicoBuch.sample(n=5)"
   ]
  },
  {
   "cell_type": "markdown",
   "metadata": {},
   "source": [
    "## Un petit calcul"
   ]
  },
  {
   "cell_type": "code",
   "execution_count": 13,
   "metadata": {},
   "outputs": [
    {
     "data": {
      "text/plain": [
       "9.0"
      ]
     },
     "execution_count": 13,
     "metadata": {},
     "output_type": "execute_result"
    }
   ],
   "source": [
    "dfDicoBuch['sizePron'].median()"
   ]
  },
  {
   "cell_type": "markdown",
   "metadata": {},
   "source": [
    "## Une recherche de valeur"
   ]
  },
  {
   "cell_type": "code",
   "execution_count": 14,
   "metadata": {},
   "outputs": [
    {
     "data": {
      "text/html": [
       "<div>\n",
       "<style scoped>\n",
       "    .dataframe tbody tr th:only-of-type {\n",
       "        vertical-align: middle;\n",
       "    }\n",
       "\n",
       "    .dataframe tbody tr th {\n",
       "        vertical-align: top;\n",
       "    }\n",
       "\n",
       "    .dataframe thead th {\n",
       "        text-align: right;\n",
       "    }\n",
       "</style>\n",
       "<table border=\"1\" class=\"dataframe\">\n",
       "  <thead>\n",
       "    <tr style=\"text-align: right;\">\n",
       "      <th></th>\n",
       "      <th>nbSyll</th>\n",
       "      <th>pron</th>\n",
       "      <th>origin</th>\n",
       "      <th>warning</th>\n",
       "      <th>remarques</th>\n",
       "      <th>POS</th>\n",
       "      <th>lineId</th>\n",
       "      <th>pageId</th>\n",
       "      <th>sizePron</th>\n",
       "    </tr>\n",
       "  </thead>\n",
       "  <tbody>\n",
       "    <tr>\n",
       "      <th>2813</th>\n",
       "      <td>3</td>\n",
       "      <td>contrŏʹller or comptrollĕr</td>\n",
       "      <td>NaN</td>\n",
       "      <td>NaN</td>\n",
       "      <td>NaN</td>\n",
       "      <td>n.</td>\n",
       "      <td>49.0</td>\n",
       "      <td>58</td>\n",
       "      <td>26</td>\n",
       "    </tr>\n",
       "    <tr>\n",
       "      <th>7492</th>\n",
       "      <td>3</td>\n",
       "      <td>kaʹlĕnd_a_r or caʹlĕnd_a_r</td>\n",
       "      <td>NaN</td>\n",
       "      <td>NaN</td>\n",
       "      <td>NaN</td>\n",
       "      <td>n.</td>\n",
       "      <td>2.0</td>\n",
       "      <td>125</td>\n",
       "      <td>26</td>\n",
       "    </tr>\n",
       "  </tbody>\n",
       "</table>\n",
       "</div>"
      ],
      "text/plain": [
       "      nbSyll                        pron origin warning remarques POS  lineId  \\\n",
       "2813       3  contrŏʹller or comptrollĕr    NaN     NaN       NaN  n.    49.0   \n",
       "7492       3  kaʹlĕnd_a_r or caʹlĕnd_a_r    NaN     NaN       NaN  n.     2.0   \n",
       "\n",
       "      pageId  sizePron  \n",
       "2813      58        26  \n",
       "7492     125        26  "
      ]
     },
     "execution_count": 14,
     "metadata": {},
     "output_type": "execute_result"
    }
   ],
   "source": [
    "dfDicoBuch[dfDicoBuch['sizePron']==26.0]"
   ]
  },
  {
   "cell_type": "markdown",
   "metadata": {},
   "source": [
    "## Afficher des graphiques\n",
    "Plusieurs librairie possibles :\n",
    "* matplotlib (static, bonne qualité pour publication)\n",
    "* seaborn (interactif, pour le web)\n",
    "* bokeh (interactif, pour le web)\n",
    "* plotly (interactif, pour le web)"
   ]
  },
  {
   "cell_type": "code",
   "execution_count": 15,
   "metadata": {},
   "outputs": [],
   "source": [
    "import seaborn as sns\n",
    "import matplotlib.pyplot as plt"
   ]
  },
  {
   "cell_type": "code",
   "execution_count": 16,
   "metadata": {},
   "outputs": [
    {
     "data": {
      "text/plain": [
       "<AxesSubplot:xlabel='nbSyll', ylabel='sizePron'>"
      ]
     },
     "execution_count": 16,
     "metadata": {},
     "output_type": "execute_result"
    },
    {
     "data": {
      "application/vnd.jupyter.widget-view+json": {
       "model_id": "1f442078574a4fa79f295b69164b63a6",
       "version_major": 2,
       "version_minor": 0
      },
      "image/png": "[encoded data removed]",
      "text/html": [
       "\n",
       "            <div style=\"display: inline-block;\">\n",
       "                <div class=\"jupyter-widgets widget-label\" style=\"text-align: center;\">\n",
       "                    scatter plot view\n",
       "                </div>\n",
       "                <img src='data:image/png;base64,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' width=640.0/>\n",
       "            </div>\n",
       "        "
      ],
      "text/plain": [
       "Canvas(toolbar=Toolbar(toolitems=[('Home', 'Reset original view', 'home', 'home'), ('Back', 'Back to previous …"
      ]
     },
     "metadata": {},
     "output_type": "display_data"
    }
   ],
   "source": [
    "%matplotlib ipympl\n",
    "\n",
    "plt.figure(\"scatter plot view\")\n",
    "sns.scatterplot(data=dfDicoBuch, x=\"nbSyll\", y=\"sizePron\", hue=\"POS\")"
   ]
  },
  {
   "cell_type": "code",
   "execution_count": 17,
   "metadata": {
    "scrolled": true
   },
   "outputs": [
    {
     "data": {
      "text/plain": [
       "<AxesSubplot:xlabel='nbSyll', ylabel='sizePron'>"
      ]
     },
     "execution_count": 17,
     "metadata": {},
     "output_type": "execute_result"
    },
    {
     "data": {
      "application/vnd.jupyter.widget-view+json": {
       "model_id": "29b28e92b020491eaa509801eb53b97a",
       "version_major": 2,
       "version_minor": 0
      },
      "image/png": "[encoded data removed]",
      "text/html": [
       "\n",
       "            <div style=\"display: inline-block;\">\n",
       "                <div class=\"jupyter-widgets widget-label\" style=\"text-align: center;\">\n",
       "                    scatter plot view\n",
       "                </div>\n",
       "                <img src='data:image/png;base64,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' width=640.0/>\n",
       "            </div>\n",
       "        "
      ],
      "text/plain": [
       "Canvas(toolbar=Toolbar(toolitems=[('Home', 'Reset original view', 'home', 'home'), ('Back', 'Back to previous …"
      ]
     },
     "metadata": {},
     "output_type": "display_data"
    }
   ],
   "source": [
    "%matplotlib ipympl\n",
    "\n",
    "plt.figure(\"scatter plot view\")\n",
    "sns.scatterplot(data=dfDicoBuch, x=\"nbSyll\", y=\"sizePron\", hue=\"POS\", alpha=0.05)"
   ]
  },
  {
   "cell_type": "markdown",
   "metadata": {},
   "source": [
    "## Manipuler des matrices de format exotique"
   ]
  },
  {
   "cell_type": "code",
   "execution_count": 18,
   "metadata": {},
   "outputs": [
    {
     "data": {
      "text/html": [
       "<div>\n",
       "<style scoped>\n",
       "    .dataframe tbody tr th:only-of-type {\n",
       "        vertical-align: middle;\n",
       "    }\n",
       "\n",
       "    .dataframe tbody tr th {\n",
       "        vertical-align: top;\n",
       "    }\n",
       "\n",
       "    .dataframe thead th {\n",
       "        text-align: right;\n",
       "    }\n",
       "</style>\n",
       "<table border=\"1\" class=\"dataframe\">\n",
       "  <thead>\n",
       "    <tr style=\"text-align: right;\">\n",
       "      <th></th>\n",
       "      <th>hwd</th>\n",
       "      <th>Sampa</th>\n",
       "    </tr>\n",
       "  </thead>\n",
       "  <tbody>\n",
       "    <tr>\n",
       "      <th>0</th>\n",
       "      <td>a</td>\n",
       "      <td>@</td>\n",
       "    </tr>\n",
       "    <tr>\n",
       "      <th>1</th>\n",
       "      <td>a(2)</td>\n",
       "      <td>eI</td>\n",
       "    </tr>\n",
       "    <tr>\n",
       "      <th>2</th>\n",
       "      <td>a'ready</td>\n",
       "      <td>@ r\\ E d i:</td>\n",
       "    </tr>\n",
       "    <tr>\n",
       "      <th>3</th>\n",
       "      <td>a's</td>\n",
       "      <td>eI z</td>\n",
       "    </tr>\n",
       "    <tr>\n",
       "      <th>4</th>\n",
       "      <td>a.</td>\n",
       "      <td>eI</td>\n",
       "    </tr>\n",
       "  </tbody>\n",
       "</table>\n",
       "</div>"
      ],
      "text/plain": [
       "       hwd        Sampa\n",
       "0        a            @\n",
       "1     a(2)           eI\n",
       "2  a'ready  @ r\\ E d i:\n",
       "3      a's         eI z\n",
       "4       a.           eI"
      ]
     },
     "execution_count": 18,
     "metadata": {},
     "output_type": "execute_result"
    }
   ],
   "source": [
    "cheminDuDicoBigi = \"./../data/dictionary/2015_Bigi-B.dict\" \n",
    "\n",
    "# ouvrir une matric exotique\n",
    "#dfDicoBigi = pd.read_csv(cheminDuDicoBigi, delimiter=\" [] \", encoding=\"utf8\")\n",
    "\n",
    "dfDicoBigi = pd.read_csv(cheminDuDicoBigi, delimiter=\" \\[\\] \", encoding=\"utf8\", engine='python', names=['hwd','Sampa'], skiprows=8 )\n",
    "\n",
    "# afficher à l'écran un échantillon du tableau\n",
    "dfDicoBigi.head(n=5)"
   ]
  },
  {
   "cell_type": "markdown",
   "metadata": {},
   "source": [
    "Intro/rappel Regex : https://gitlab.huma-num.fr/mnauge/cnam-athon-transcrire/-/blob/master/codes/regexBasics.ipynb"
   ]
  },
  {
   "cell_type": "markdown",
   "metadata": {},
   "source": [
    "## Jouer avec deux matrices à la fois"
   ]
  },
  {
   "cell_type": "code",
   "execution_count": 19,
   "metadata": {},
   "outputs": [
    {
     "data": {
      "text/html": [
       "<div>\n",
       "<style scoped>\n",
       "    .dataframe tbody tr th:only-of-type {\n",
       "        vertical-align: middle;\n",
       "    }\n",
       "\n",
       "    .dataframe tbody tr th {\n",
       "        vertical-align: top;\n",
       "    }\n",
       "\n",
       "    .dataframe thead th {\n",
       "        text-align: right;\n",
       "    }\n",
       "</style>\n",
       "<table border=\"1\" class=\"dataframe\">\n",
       "  <thead>\n",
       "    <tr style=\"text-align: right;\">\n",
       "      <th></th>\n",
       "      <th>sampa</th>\n",
       "      <th>ipa</th>\n",
       "    </tr>\n",
       "  </thead>\n",
       "  <tbody>\n",
       "    <tr>\n",
       "      <th>173</th>\n",
       "      <td>z</td>\n",
       "      <td>z</td>\n",
       "    </tr>\n",
       "    <tr>\n",
       "      <th>71</th>\n",
       "      <td>U:</td>\n",
       "      <td>ʊː</td>\n",
       "    </tr>\n",
       "    <tr>\n",
       "      <th>24</th>\n",
       "      <td>=\\</td>\n",
       "      <td>ǂ</td>\n",
       "    </tr>\n",
       "  </tbody>\n",
       "</table>\n",
       "</div>"
      ],
      "text/plain": [
       "    sampa ipa\n",
       "173     z   z\n",
       "71     U:  ʊː\n",
       "24     =\\   ǂ"
      ]
     },
     "execution_count": 19,
     "metadata": {},
     "output_type": "execute_result"
    }
   ],
   "source": [
    "cheminDuMappingSampaIpa = \"./../data/dictionary/sampa-ipa.txt\" \n",
    "dfMappingSampaIpa = pd.read_csv(cheminDuMappingSampaIpa, delimiter=\"  *\", encoding=\"utf8\", engine='python', names=['sampa','ipa'])\n",
    "dfMappingSampaIpa.sample(n=3)"
   ]
  },
  {
   "cell_type": "code",
   "execution_count": 20,
   "metadata": {},
   "outputs": [
    {
     "data": {
      "text/plain": [
       "r      3\n",
       "g      2\n",
       "U~/    2\n",
       "h      2\n",
       "@      2\n",
       "      ..\n",
       "v\\     1\n",
       "1      1\n",
       "X\\     1\n",
       "_?\\    1\n",
       "G\\     1\n",
       "Name: sampa, Length: 177, dtype: int64"
      ]
     },
     "execution_count": 20,
     "metadata": {},
     "output_type": "execute_result"
    }
   ],
   "source": [
    "dfMappingSampaIpa['sampa'].value_counts()"
   ]
  },
  {
   "cell_type": "code",
   "execution_count": 21,
   "metadata": {},
   "outputs": [
    {
     "data": {
      "text/html": [
       "<div>\n",
       "<style scoped>\n",
       "    .dataframe tbody tr th:only-of-type {\n",
       "        vertical-align: middle;\n",
       "    }\n",
       "\n",
       "    .dataframe tbody tr th {\n",
       "        vertical-align: top;\n",
       "    }\n",
       "\n",
       "    .dataframe thead th {\n",
       "        text-align: right;\n",
       "    }\n",
       "</style>\n",
       "<table border=\"1\" class=\"dataframe\">\n",
       "  <thead>\n",
       "    <tr style=\"text-align: right;\">\n",
       "      <th></th>\n",
       "      <th>sampa</th>\n",
       "      <th>ipa</th>\n",
       "    </tr>\n",
       "  </thead>\n",
       "  <tbody>\n",
       "    <tr>\n",
       "      <th>28</th>\n",
       "      <td>@</td>\n",
       "      <td>ə</td>\n",
       "    </tr>\n",
       "    <tr>\n",
       "      <th>29</th>\n",
       "      <td>@</td>\n",
       "      <td>ɛ</td>\n",
       "    </tr>\n",
       "  </tbody>\n",
       "</table>\n",
       "</div>"
      ],
      "text/plain": [
       "   sampa ipa\n",
       "28     @   ə\n",
       "29     @   ɛ"
      ]
     },
     "execution_count": 21,
     "metadata": {},
     "output_type": "execute_result"
    }
   ],
   "source": [
    "dfMappingSampaIpa[dfMappingSampaIpa['sampa']=='@']"
   ]
  },
  {
   "cell_type": "code",
   "execution_count": 22,
   "metadata": {},
   "outputs": [],
   "source": [
    "# ne garder que la première occurence pour éviter une indécision mais ce n'est pas terrible. A discuter avec les linguistes.\n",
    "dfMappingSampaIpa.drop_duplicates(subset=['sampa'], keep='first', inplace=True)"
   ]
  },
  {
   "cell_type": "code",
   "execution_count": 23,
   "metadata": {},
   "outputs": [
    {
     "data": {
      "text/html": [
       "<div>\n",
       "<style scoped>\n",
       "    .dataframe tbody tr th:only-of-type {\n",
       "        vertical-align: middle;\n",
       "    }\n",
       "\n",
       "    .dataframe tbody tr th {\n",
       "        vertical-align: top;\n",
       "    }\n",
       "\n",
       "    .dataframe thead th {\n",
       "        text-align: right;\n",
       "    }\n",
       "</style>\n",
       "<table border=\"1\" class=\"dataframe\">\n",
       "  <thead>\n",
       "    <tr style=\"text-align: right;\">\n",
       "      <th></th>\n",
       "      <th>sampa</th>\n",
       "      <th>ipa</th>\n",
       "    </tr>\n",
       "  </thead>\n",
       "  <tbody>\n",
       "    <tr>\n",
       "      <th>28</th>\n",
       "      <td>@</td>\n",
       "      <td>ə</td>\n",
       "    </tr>\n",
       "  </tbody>\n",
       "</table>\n",
       "</div>"
      ],
      "text/plain": [
       "   sampa ipa\n",
       "28     @   ə"
      ]
     },
     "execution_count": 23,
     "metadata": {},
     "output_type": "execute_result"
    }
   ],
   "source": [
    "dfMappingSampaIpa[dfMappingSampaIpa['sampa']=='@']"
   ]
  },
  {
   "cell_type": "code",
   "execution_count": 24,
   "metadata": {},
   "outputs": [],
   "source": [
    "def sampa2ipa(strSampa, dfMapping):\n",
    "    ipaRes = \"\"\n",
    "    \n",
    "    listValSampa = strSampa.split(\" \")\n",
    "    #print(listValSampa)\n",
    "    for valSampa in listValSampa:\n",
    "        dfRowFinded = dfMapping[dfMapping['sampa']==valSampa]\n",
    "\n",
    "        if len(dfRowFinded==1):\n",
    "            ipaRes+=dfRowFinded.iloc[0]['ipa']\n",
    "        else:\n",
    "            ipaRes+='?'\n",
    "    return ipaRes"
   ]
  },
  {
   "cell_type": "code",
   "execution_count": 25,
   "metadata": {},
   "outputs": [
    {
     "data": {
      "text/plain": [
       "'ɑɹti'"
      ]
     },
     "execution_count": 25,
     "metadata": {},
     "output_type": "execute_result"
    }
   ],
   "source": [
    "sampa2ipa(\"A r\\ t i\",dfMappingSampaIpa)"
   ]
  },
  {
   "cell_type": "code",
   "execution_count": 27,
   "metadata": {},
   "outputs": [],
   "source": [
    "dfDicoBigiRich = dfDicoBigi.copy()\n",
    "\n",
    "dfDicoBigiRich['ipa'] = dfDicoBigiRich.apply(lambda x: sampa2ipa(x['Sampa'], dfMappingSampaIpa),1)\n"
   ]
  },
  {
   "cell_type": "code",
   "execution_count": 28,
   "metadata": {},
   "outputs": [
    {
     "data": {
      "text/html": [
       "<div>\n",
       "<style scoped>\n",
       "    .dataframe tbody tr th:only-of-type {\n",
       "        vertical-align: middle;\n",
       "    }\n",
       "\n",
       "    .dataframe tbody tr th {\n",
       "        vertical-align: top;\n",
       "    }\n",
       "\n",
       "    .dataframe thead th {\n",
       "        text-align: right;\n",
       "    }\n",
       "</style>\n",
       "<table border=\"1\" class=\"dataframe\">\n",
       "  <thead>\n",
       "    <tr style=\"text-align: right;\">\n",
       "      <th></th>\n",
       "      <th>hwd</th>\n",
       "      <th>Sampa</th>\n",
       "      <th>ipa</th>\n",
       "    </tr>\n",
       "  </thead>\n",
       "  <tbody>\n",
       "    <tr>\n",
       "      <th>130987</th>\n",
       "      <td>zuchowski(2)</td>\n",
       "      <td>z u k O: f s k i:</td>\n",
       "      <td>zukOːfskiː</td>\n",
       "    </tr>\n",
       "    <tr>\n",
       "      <th>128741</th>\n",
       "      <td>wolgemuth</td>\n",
       "      <td>w @U l g i m u T</td>\n",
       "      <td>woʊlgimuθ</td>\n",
       "    </tr>\n",
       "    <tr>\n",
       "      <th>41264</th>\n",
       "      <td>firewall</td>\n",
       "      <td>f aI r\\ w A l</td>\n",
       "      <td>f?ɹwɑl</td>\n",
       "    </tr>\n",
       "    <tr>\n",
       "      <th>125921</th>\n",
       "      <td>water's</td>\n",
       "      <td>w O: 4 3:r z</td>\n",
       "      <td>wOːɾɜ:rz</td>\n",
       "    </tr>\n",
       "    <tr>\n",
       "      <th>7404</th>\n",
       "      <td>bakers</td>\n",
       "      <td>b eI k 3:r z</td>\n",
       "      <td>b?kɜ:rz</td>\n",
       "    </tr>\n",
       "  </tbody>\n",
       "</table>\n",
       "</div>"
      ],
      "text/plain": [
       "                 hwd              Sampa         ipa\n",
       "130987  zuchowski(2)  z u k O: f s k i:  zukOːfskiː\n",
       "128741     wolgemuth   w @U l g i m u T   woʊlgimuθ\n",
       "41264       firewall      f aI r\\ w A l      f?ɹwɑl\n",
       "125921       water's       w O: 4 3:r z    wOːɾɜ:rz\n",
       "7404          bakers       b eI k 3:r z     b?kɜ:rz"
      ]
     },
     "execution_count": 28,
     "metadata": {},
     "output_type": "execute_result"
    }
   ],
   "source": [
    "dfDicoBigiRich.sample(n=5)"
   ]
  },
  {
   "cell_type": "markdown",
   "metadata": {},
   "source": [
    "### Sauvegarder la nouvelle matrice\n"
   ]
  },
  {
   "cell_type": "code",
   "execution_count": 29,
   "metadata": {},
   "outputs": [],
   "source": [
    "pathDicoBigiRich = r\"C:\\Users\\sacha\\Dropbox\\Cours EiCNAM\\3e année\\USSI39\\cnam-athon-pronunciation-main\\data\\dataframe\\BigiRichSample.csv\"\n",
    "dfDicoBigiRich.to_csv(pathDicoBigiRich, sep=\";\",encoding=\"utf8\",index=False)"
   ]
  },
  {
   "cell_type": "code",
   "execution_count": null,
   "metadata": {},
   "outputs": [],
   "source": []
  }
 ],
 "metadata": {
  "kernelspec": {
   "display_name": "Python 3",
   "language": "python",
   "name": "python3"
  },
  "language_info": {
   "codemirror_mode": {
    "name": "ipython",
    "version": 3
   },
   "file_extension": ".py",
   "mimetype": "text/x-python",
   "name": "python",
   "nbconvert_exporter": "python",
   "pygments_lexer": "ipython3",
   "version": "3.8.8"
  }
 },
 "nbformat": 4,
 "nbformat_minor": 4
}
